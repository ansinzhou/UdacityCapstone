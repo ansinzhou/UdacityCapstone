{
 "cells": [
  {
   "cell_type": "code",
   "execution_count": 1,
   "metadata": {},
   "outputs": [
    {
     "name": "stderr",
     "output_type": "stream",
     "text": [
      "C:\\Users\\User\\Anaconda3\\lib\\site-packages\\numpy\\_distributor_init.py:32: UserWarning: loaded more than 1 DLL from .libs:\n",
      "C:\\Users\\User\\Anaconda3\\lib\\site-packages\\numpy\\.libs\\libopenblas.NOIJJG62EMASZI6NYURL6JBKM4EVBGM7.gfortran-win_amd64.dll\n",
      "C:\\Users\\User\\Anaconda3\\lib\\site-packages\\numpy\\.libs\\libopenblas.PYQHXLVVQ7VESDPUVUADXEVJOBGHJPAY.gfortran-win_amd64.dll\n",
      "  stacklevel=1)\n",
      "C:\\Users\\User\\Anaconda3\\lib\\site-packages\\tensorflow\\python\\framework\\dtypes.py:516: FutureWarning: Passing (type, 1) or '1type' as a synonym of type is deprecated; in a future version of numpy, it will be understood as (type, (1,)) / '(1,)type'.\n",
      "  _np_qint8 = np.dtype([(\"qint8\", np.int8, 1)])\n",
      "C:\\Users\\User\\Anaconda3\\lib\\site-packages\\tensorflow\\python\\framework\\dtypes.py:517: FutureWarning: Passing (type, 1) or '1type' as a synonym of type is deprecated; in a future version of numpy, it will be understood as (type, (1,)) / '(1,)type'.\n",
      "  _np_quint8 = np.dtype([(\"quint8\", np.uint8, 1)])\n",
      "C:\\Users\\User\\Anaconda3\\lib\\site-packages\\tensorflow\\python\\framework\\dtypes.py:518: FutureWarning: Passing (type, 1) or '1type' as a synonym of type is deprecated; in a future version of numpy, it will be understood as (type, (1,)) / '(1,)type'.\n",
      "  _np_qint16 = np.dtype([(\"qint16\", np.int16, 1)])\n",
      "C:\\Users\\User\\Anaconda3\\lib\\site-packages\\tensorflow\\python\\framework\\dtypes.py:519: FutureWarning: Passing (type, 1) or '1type' as a synonym of type is deprecated; in a future version of numpy, it will be understood as (type, (1,)) / '(1,)type'.\n",
      "  _np_quint16 = np.dtype([(\"quint16\", np.uint16, 1)])\n",
      "C:\\Users\\User\\Anaconda3\\lib\\site-packages\\tensorflow\\python\\framework\\dtypes.py:520: FutureWarning: Passing (type, 1) or '1type' as a synonym of type is deprecated; in a future version of numpy, it will be understood as (type, (1,)) / '(1,)type'.\n",
      "  _np_qint32 = np.dtype([(\"qint32\", np.int32, 1)])\n",
      "C:\\Users\\User\\Anaconda3\\lib\\site-packages\\tensorflow\\python\\framework\\dtypes.py:525: FutureWarning: Passing (type, 1) or '1type' as a synonym of type is deprecated; in a future version of numpy, it will be understood as (type, (1,)) / '(1,)type'.\n",
      "  np_resource = np.dtype([(\"resource\", np.ubyte, 1)])\n",
      "C:\\Users\\User\\Anaconda3\\lib\\site-packages\\tensorboard\\compat\\tensorflow_stub\\dtypes.py:541: FutureWarning: Passing (type, 1) or '1type' as a synonym of type is deprecated; in a future version of numpy, it will be understood as (type, (1,)) / '(1,)type'.\n",
      "  _np_qint8 = np.dtype([(\"qint8\", np.int8, 1)])\n",
      "C:\\Users\\User\\Anaconda3\\lib\\site-packages\\tensorboard\\compat\\tensorflow_stub\\dtypes.py:542: FutureWarning: Passing (type, 1) or '1type' as a synonym of type is deprecated; in a future version of numpy, it will be understood as (type, (1,)) / '(1,)type'.\n",
      "  _np_quint8 = np.dtype([(\"quint8\", np.uint8, 1)])\n",
      "C:\\Users\\User\\Anaconda3\\lib\\site-packages\\tensorboard\\compat\\tensorflow_stub\\dtypes.py:543: FutureWarning: Passing (type, 1) or '1type' as a synonym of type is deprecated; in a future version of numpy, it will be understood as (type, (1,)) / '(1,)type'.\n",
      "  _np_qint16 = np.dtype([(\"qint16\", np.int16, 1)])\n",
      "C:\\Users\\User\\Anaconda3\\lib\\site-packages\\tensorboard\\compat\\tensorflow_stub\\dtypes.py:544: FutureWarning: Passing (type, 1) or '1type' as a synonym of type is deprecated; in a future version of numpy, it will be understood as (type, (1,)) / '(1,)type'.\n",
      "  _np_quint16 = np.dtype([(\"quint16\", np.uint16, 1)])\n",
      "C:\\Users\\User\\Anaconda3\\lib\\site-packages\\tensorboard\\compat\\tensorflow_stub\\dtypes.py:545: FutureWarning: Passing (type, 1) or '1type' as a synonym of type is deprecated; in a future version of numpy, it will be understood as (type, (1,)) / '(1,)type'.\n",
      "  _np_qint32 = np.dtype([(\"qint32\", np.int32, 1)])\n",
      "C:\\Users\\User\\Anaconda3\\lib\\site-packages\\tensorboard\\compat\\tensorflow_stub\\dtypes.py:550: FutureWarning: Passing (type, 1) or '1type' as a synonym of type is deprecated; in a future version of numpy, it will be understood as (type, (1,)) / '(1,)type'.\n",
      "  np_resource = np.dtype([(\"resource\", np.ubyte, 1)])\n"
     ]
    }
   ],
   "source": [
    "#Importing Libraries \n",
    "\n",
    "import pandas as pd\n",
    "import numpy as np\n",
    "from sklearn.model_selection import train_test_split\n",
    "from sklearn.preprocessing import StandardScaler\n",
    "from sklearn.svm import SVC\n",
    "from sklearn.metrics import confusion_matrix\n",
    "from matplotlib.colors import ListedColormap\n",
    "from sklearn.model_selection import cross_val_score\n",
    "from sklearn.model_selection import GridSearchCV\n",
    "from sklearn.metrics import r2_score, mean_squared_error\n",
    "import statsmodels.api as sm\n",
    "from sklearn.impute import SimpleImputer\n",
    "from sklearn.feature_selection import RFE\n",
    "from sklearn.ensemble import RandomForestClassifier\n",
    "import matplotlib.pyplot as plt\n",
    "import tensorflow as tf"
   ]
  },
  {
   "cell_type": "markdown",
   "metadata": {},
   "source": [
    "## Importing Dataset"
   ]
  },
  {
   "cell_type": "code",
   "execution_count": 2,
   "metadata": {},
   "outputs": [],
   "source": [
    "df = pd.read_csv('capstone.csv')"
   ]
  },
  {
   "cell_type": "code",
   "execution_count": 3,
   "metadata": {},
   "outputs": [
    {
     "data": {
      "text/html": [
       "<div>\n",
       "<style scoped>\n",
       "    .dataframe tbody tr th:only-of-type {\n",
       "        vertical-align: middle;\n",
       "    }\n",
       "\n",
       "    .dataframe tbody tr th {\n",
       "        vertical-align: top;\n",
       "    }\n",
       "\n",
       "    .dataframe thead th {\n",
       "        text-align: right;\n",
       "    }\n",
       "</style>\n",
       "<table border=\"1\" class=\"dataframe\">\n",
       "  <thead>\n",
       "    <tr style=\"text-align: right;\">\n",
       "      <th></th>\n",
       "      <th>Symbol</th>\n",
       "      <th>Date</th>\n",
       "      <th>Time</th>\n",
       "      <th>ShortBuy</th>\n",
       "      <th>ShortBuy Label</th>\n",
       "      <th>ZhanDVAR</th>\n",
       "      <th>ZhanDVAR Label</th>\n",
       "      <th>TwoDvar</th>\n",
       "      <th>TwoDvar Label</th>\n",
       "      <th>100RDVAR</th>\n",
       "      <th>...</th>\n",
       "      <th>high/dvar</th>\n",
       "      <th>high/dvar Label</th>\n",
       "      <th>MACDVdh</th>\n",
       "      <th>MACDVdh Label</th>\n",
       "      <th>high/open</th>\n",
       "      <th>high/open Label</th>\n",
       "      <th>open/q</th>\n",
       "      <th>open/q Label</th>\n",
       "      <th>BuyWINLOSS</th>\n",
       "      <th>BuyWINLOSS Label</th>\n",
       "    </tr>\n",
       "  </thead>\n",
       "  <tbody>\n",
       "    <tr>\n",
       "      <th>0</th>\n",
       "      <td>JBLU</td>\n",
       "      <td>8/21/2007</td>\n",
       "      <td>4:00 PM</td>\n",
       "      <td>0.0</td>\n",
       "      <td>NaN</td>\n",
       "      <td>1.055</td>\n",
       "      <td>NaN</td>\n",
       "      <td>1.52</td>\n",
       "      <td>NaN</td>\n",
       "      <td>1.71</td>\n",
       "      <td>...</td>\n",
       "      <td>1.140826</td>\n",
       "      <td>NaN</td>\n",
       "      <td>1.0</td>\n",
       "      <td>NaN</td>\n",
       "      <td>2.987220</td>\n",
       "      <td>NaN</td>\n",
       "      <td>0.635748</td>\n",
       "      <td>NaN</td>\n",
       "      <td>0.0</td>\n",
       "      <td>NaN</td>\n",
       "    </tr>\n",
       "    <tr>\n",
       "      <th>1</th>\n",
       "      <td>JBLU</td>\n",
       "      <td>8/22/2007</td>\n",
       "      <td>4:00 PM</td>\n",
       "      <td>0.0</td>\n",
       "      <td>NaN</td>\n",
       "      <td>1.055</td>\n",
       "      <td>NaN</td>\n",
       "      <td>1.52</td>\n",
       "      <td>NaN</td>\n",
       "      <td>1.71</td>\n",
       "      <td>...</td>\n",
       "      <td>1.140826</td>\n",
       "      <td>NaN</td>\n",
       "      <td>1.0</td>\n",
       "      <td>NaN</td>\n",
       "      <td>2.876923</td>\n",
       "      <td>NaN</td>\n",
       "      <td>0.660122</td>\n",
       "      <td>NaN</td>\n",
       "      <td>0.0</td>\n",
       "      <td>NaN</td>\n",
       "    </tr>\n",
       "    <tr>\n",
       "      <th>2</th>\n",
       "      <td>JBLU</td>\n",
       "      <td>8/23/2007</td>\n",
       "      <td>4:00 PM</td>\n",
       "      <td>0.0</td>\n",
       "      <td>NaN</td>\n",
       "      <td>1.055</td>\n",
       "      <td>NaN</td>\n",
       "      <td>1.52</td>\n",
       "      <td>NaN</td>\n",
       "      <td>1.71</td>\n",
       "      <td>...</td>\n",
       "      <td>1.140826</td>\n",
       "      <td>NaN</td>\n",
       "      <td>1.0</td>\n",
       "      <td>NaN</td>\n",
       "      <td>2.906736</td>\n",
       "      <td>NaN</td>\n",
       "      <td>0.653351</td>\n",
       "      <td>NaN</td>\n",
       "      <td>0.0</td>\n",
       "      <td>NaN</td>\n",
       "    </tr>\n",
       "    <tr>\n",
       "      <th>3</th>\n",
       "      <td>JBLU</td>\n",
       "      <td>8/24/2007</td>\n",
       "      <td>4:00 PM</td>\n",
       "      <td>0.0</td>\n",
       "      <td>NaN</td>\n",
       "      <td>1.055</td>\n",
       "      <td>NaN</td>\n",
       "      <td>1.52</td>\n",
       "      <td>NaN</td>\n",
       "      <td>1.71</td>\n",
       "      <td>...</td>\n",
       "      <td>1.140826</td>\n",
       "      <td>NaN</td>\n",
       "      <td>1.0</td>\n",
       "      <td>NaN</td>\n",
       "      <td>2.965116</td>\n",
       "      <td>NaN</td>\n",
       "      <td>0.640487</td>\n",
       "      <td>NaN</td>\n",
       "      <td>0.0</td>\n",
       "      <td>NaN</td>\n",
       "    </tr>\n",
       "    <tr>\n",
       "      <th>4</th>\n",
       "      <td>JBLU</td>\n",
       "      <td>8/27/2007</td>\n",
       "      <td>4:00 PM</td>\n",
       "      <td>0.0</td>\n",
       "      <td>NaN</td>\n",
       "      <td>1.055</td>\n",
       "      <td>NaN</td>\n",
       "      <td>1.52</td>\n",
       "      <td>NaN</td>\n",
       "      <td>1.71</td>\n",
       "      <td>...</td>\n",
       "      <td>1.140826</td>\n",
       "      <td>NaN</td>\n",
       "      <td>1.0</td>\n",
       "      <td>NaN</td>\n",
       "      <td>2.968254</td>\n",
       "      <td>NaN</td>\n",
       "      <td>0.639810</td>\n",
       "      <td>NaN</td>\n",
       "      <td>0.0</td>\n",
       "      <td>NaN</td>\n",
       "    </tr>\n",
       "  </tbody>\n",
       "</table>\n",
       "<p>5 rows × 23 columns</p>\n",
       "</div>"
      ],
      "text/plain": [
       "  Symbol       Date     Time  ShortBuy  ShortBuy Label  ZhanDVAR  \\\n",
       "0   JBLU  8/21/2007  4:00 PM       0.0             NaN     1.055   \n",
       "1   JBLU  8/22/2007  4:00 PM       0.0             NaN     1.055   \n",
       "2   JBLU  8/23/2007  4:00 PM       0.0             NaN     1.055   \n",
       "3   JBLU  8/24/2007  4:00 PM       0.0             NaN     1.055   \n",
       "4   JBLU  8/27/2007  4:00 PM       0.0             NaN     1.055   \n",
       "\n",
       "   ZhanDVAR Label  TwoDvar  TwoDvar Label  100RDVAR  ...  high/dvar  \\\n",
       "0             NaN     1.52            NaN      1.71  ...   1.140826   \n",
       "1             NaN     1.52            NaN      1.71  ...   1.140826   \n",
       "2             NaN     1.52            NaN      1.71  ...   1.140826   \n",
       "3             NaN     1.52            NaN      1.71  ...   1.140826   \n",
       "4             NaN     1.52            NaN      1.71  ...   1.140826   \n",
       "\n",
       "   high/dvar Label  MACDVdh  MACDVdh Label  high/open  high/open Label  \\\n",
       "0              NaN      1.0            NaN   2.987220              NaN   \n",
       "1              NaN      1.0            NaN   2.876923              NaN   \n",
       "2              NaN      1.0            NaN   2.906736              NaN   \n",
       "3              NaN      1.0            NaN   2.965116              NaN   \n",
       "4              NaN      1.0            NaN   2.968254              NaN   \n",
       "\n",
       "     open/q  open/q Label  BuyWINLOSS  BuyWINLOSS Label  \n",
       "0  0.635748           NaN         0.0               NaN  \n",
       "1  0.660122           NaN         0.0               NaN  \n",
       "2  0.653351           NaN         0.0               NaN  \n",
       "3  0.640487           NaN         0.0               NaN  \n",
       "4  0.639810           NaN         0.0               NaN  \n",
       "\n",
       "[5 rows x 23 columns]"
      ]
     },
     "execution_count": 3,
     "metadata": {},
     "output_type": "execute_result"
    }
   ],
   "source": [
    "df.head()"
   ]
  },
  {
   "cell_type": "code",
   "execution_count": 4,
   "metadata": {},
   "outputs": [
    {
     "name": "stdout",
     "output_type": "stream",
     "text": [
      "<class 'pandas.core.frame.DataFrame'>\n",
      "RangeIndex: 716701 entries, 0 to 716700\n",
      "Data columns (total 23 columns):\n",
      " #   Column             Non-Null Count   Dtype  \n",
      "---  ------             --------------   -----  \n",
      " 0   Symbol             716701 non-null  object \n",
      " 1   Date               716701 non-null  object \n",
      " 2   Time               716701 non-null  object \n",
      " 3   ShortBuy           716629 non-null  float64\n",
      " 4   ShortBuy Label     0 non-null       float64\n",
      " 5   ZhanDVAR           680559 non-null  float64\n",
      " 6   ZhanDVAR Label     0 non-null       float64\n",
      " 7   TwoDvar            680073 non-null  float64\n",
      " 8   TwoDvar Label      0 non-null       float64\n",
      " 9   100RDVAR           677502 non-null  float64\n",
      " 10  100RDVAR Label     0 non-null       float64\n",
      " 11  MA5Anewhigh        716639 non-null  float64\n",
      " 12  MA5Anewhigh Label  0 non-null       float64\n",
      " 13  high/dvar          674059 non-null  float64\n",
      " 14  high/dvar Label    0 non-null       float64\n",
      " 15  MACDVdh            575582 non-null  float64\n",
      " 16  MACDVdh Label      0 non-null       float64\n",
      " 17  high/open          574390 non-null  float64\n",
      " 18  high/open Label    0 non-null       float64\n",
      " 19  open/q             670809 non-null  float64\n",
      " 20  open/q Label       0 non-null       float64\n",
      " 21  BuyWINLOSS         714280 non-null  float64\n",
      " 22  BuyWINLOSS Label   0 non-null       float64\n",
      "dtypes: float64(20), object(3)\n",
      "memory usage: 125.8+ MB\n"
     ]
    }
   ],
   "source": [
    "df.info()"
   ]
  },
  {
   "cell_type": "code",
   "execution_count": 6,
   "metadata": {},
   "outputs": [
    {
     "data": {
      "text/html": [
       "<div>\n",
       "<style scoped>\n",
       "    .dataframe tbody tr th:only-of-type {\n",
       "        vertical-align: middle;\n",
       "    }\n",
       "\n",
       "    .dataframe tbody tr th {\n",
       "        vertical-align: top;\n",
       "    }\n",
       "\n",
       "    .dataframe thead th {\n",
       "        text-align: right;\n",
       "    }\n",
       "</style>\n",
       "<table border=\"1\" class=\"dataframe\">\n",
       "  <thead>\n",
       "    <tr style=\"text-align: right;\">\n",
       "      <th></th>\n",
       "      <th>ShortBuy</th>\n",
       "      <th>ShortBuy Label</th>\n",
       "      <th>ZhanDVAR</th>\n",
       "      <th>ZhanDVAR Label</th>\n",
       "      <th>TwoDvar</th>\n",
       "      <th>TwoDvar Label</th>\n",
       "      <th>100RDVAR</th>\n",
       "      <th>100RDVAR Label</th>\n",
       "      <th>MA5Anewhigh</th>\n",
       "      <th>MA5Anewhigh Label</th>\n",
       "      <th>high/dvar</th>\n",
       "      <th>high/dvar Label</th>\n",
       "      <th>MACDVdh</th>\n",
       "      <th>MACDVdh Label</th>\n",
       "      <th>high/open</th>\n",
       "      <th>high/open Label</th>\n",
       "      <th>open/q</th>\n",
       "      <th>open/q Label</th>\n",
       "      <th>BuyWINLOSS</th>\n",
       "      <th>BuyWINLOSS Label</th>\n",
       "    </tr>\n",
       "  </thead>\n",
       "  <tbody>\n",
       "    <tr>\n",
       "      <th>count</th>\n",
       "      <td>716629.000000</td>\n",
       "      <td>0.0</td>\n",
       "      <td>680559.000000</td>\n",
       "      <td>0.0</td>\n",
       "      <td>680073.00</td>\n",
       "      <td>0.0</td>\n",
       "      <td>677502.000000</td>\n",
       "      <td>0.0</td>\n",
       "      <td>716639.000000</td>\n",
       "      <td>0.0</td>\n",
       "      <td>674059.000000</td>\n",
       "      <td>0.0</td>\n",
       "      <td>575582.00</td>\n",
       "      <td>0.0</td>\n",
       "      <td>574390.000000</td>\n",
       "      <td>0.0</td>\n",
       "      <td>670809.000000</td>\n",
       "      <td>0.0</td>\n",
       "      <td>714280.000000</td>\n",
       "      <td>0.0</td>\n",
       "    </tr>\n",
       "    <tr>\n",
       "      <th>mean</th>\n",
       "      <td>0.000460</td>\n",
       "      <td>NaN</td>\n",
       "      <td>1.088047</td>\n",
       "      <td>NaN</td>\n",
       "      <td>inf</td>\n",
       "      <td>NaN</td>\n",
       "      <td>3.528723</td>\n",
       "      <td>NaN</td>\n",
       "      <td>1.147524</td>\n",
       "      <td>NaN</td>\n",
       "      <td>1.806758</td>\n",
       "      <td>NaN</td>\n",
       "      <td>NaN</td>\n",
       "      <td>NaN</td>\n",
       "      <td>2.615768</td>\n",
       "      <td>NaN</td>\n",
       "      <td>1.242789</td>\n",
       "      <td>NaN</td>\n",
       "      <td>0.000280</td>\n",
       "      <td>NaN</td>\n",
       "    </tr>\n",
       "    <tr>\n",
       "      <th>std</th>\n",
       "      <td>0.021454</td>\n",
       "      <td>NaN</td>\n",
       "      <td>0.103610</td>\n",
       "      <td>NaN</td>\n",
       "      <td>NaN</td>\n",
       "      <td>NaN</td>\n",
       "      <td>3.565248</td>\n",
       "      <td>NaN</td>\n",
       "      <td>0.160618</td>\n",
       "      <td>NaN</td>\n",
       "      <td>11.479511</td>\n",
       "      <td>NaN</td>\n",
       "      <td>NaN</td>\n",
       "      <td>NaN</td>\n",
       "      <td>28.243195</td>\n",
       "      <td>NaN</td>\n",
       "      <td>6.127405</td>\n",
       "      <td>NaN</td>\n",
       "      <td>0.016731</td>\n",
       "      <td>NaN</td>\n",
       "    </tr>\n",
       "    <tr>\n",
       "      <th>min</th>\n",
       "      <td>0.000000</td>\n",
       "      <td>NaN</td>\n",
       "      <td>0.911482</td>\n",
       "      <td>NaN</td>\n",
       "      <td>0.00</td>\n",
       "      <td>NaN</td>\n",
       "      <td>0.000000</td>\n",
       "      <td>NaN</td>\n",
       "      <td>0.200000</td>\n",
       "      <td>NaN</td>\n",
       "      <td>0.099808</td>\n",
       "      <td>NaN</td>\n",
       "      <td>-inf</td>\n",
       "      <td>NaN</td>\n",
       "      <td>0.032787</td>\n",
       "      <td>NaN</td>\n",
       "      <td>0.000000</td>\n",
       "      <td>NaN</td>\n",
       "      <td>0.000000</td>\n",
       "      <td>NaN</td>\n",
       "    </tr>\n",
       "    <tr>\n",
       "      <th>25%</th>\n",
       "      <td>0.000000</td>\n",
       "      <td>NaN</td>\n",
       "      <td>1.045695</td>\n",
       "      <td>NaN</td>\n",
       "      <td>1.71</td>\n",
       "      <td>NaN</td>\n",
       "      <td>2.010000</td>\n",
       "      <td>NaN</td>\n",
       "      <td>1.090000</td>\n",
       "      <td>NaN</td>\n",
       "      <td>1.000000</td>\n",
       "      <td>NaN</td>\n",
       "      <td>-1.43</td>\n",
       "      <td>NaN</td>\n",
       "      <td>0.734591</td>\n",
       "      <td>NaN</td>\n",
       "      <td>0.777065</td>\n",
       "      <td>NaN</td>\n",
       "      <td>0.000000</td>\n",
       "      <td>NaN</td>\n",
       "    </tr>\n",
       "    <tr>\n",
       "      <th>50%</th>\n",
       "      <td>0.000000</td>\n",
       "      <td>NaN</td>\n",
       "      <td>1.062682</td>\n",
       "      <td>NaN</td>\n",
       "      <td>2.04</td>\n",
       "      <td>NaN</td>\n",
       "      <td>2.640000</td>\n",
       "      <td>NaN</td>\n",
       "      <td>1.120000</td>\n",
       "      <td>NaN</td>\n",
       "      <td>1.131579</td>\n",
       "      <td>NaN</td>\n",
       "      <td>1.13</td>\n",
       "      <td>NaN</td>\n",
       "      <td>1.046169</td>\n",
       "      <td>NaN</td>\n",
       "      <td>1.001502</td>\n",
       "      <td>NaN</td>\n",
       "      <td>0.000000</td>\n",
       "      <td>NaN</td>\n",
       "    </tr>\n",
       "    <tr>\n",
       "      <th>75%</th>\n",
       "      <td>0.000000</td>\n",
       "      <td>NaN</td>\n",
       "      <td>1.094858</td>\n",
       "      <td>NaN</td>\n",
       "      <td>2.96</td>\n",
       "      <td>NaN</td>\n",
       "      <td>3.820000</td>\n",
       "      <td>NaN</td>\n",
       "      <td>1.180000</td>\n",
       "      <td>NaN</td>\n",
       "      <td>1.305466</td>\n",
       "      <td>NaN</td>\n",
       "      <td>2.63</td>\n",
       "      <td>NaN</td>\n",
       "      <td>1.596696</td>\n",
       "      <td>NaN</td>\n",
       "      <td>1.209910</td>\n",
       "      <td>NaN</td>\n",
       "      <td>0.000000</td>\n",
       "      <td>NaN</td>\n",
       "    </tr>\n",
       "    <tr>\n",
       "      <th>max</th>\n",
       "      <td>1.000000</td>\n",
       "      <td>NaN</td>\n",
       "      <td>3.098039</td>\n",
       "      <td>NaN</td>\n",
       "      <td>inf</td>\n",
       "      <td>NaN</td>\n",
       "      <td>79.080000</td>\n",
       "      <td>NaN</td>\n",
       "      <td>53.060000</td>\n",
       "      <td>NaN</td>\n",
       "      <td>463.833300</td>\n",
       "      <td>NaN</td>\n",
       "      <td>inf</td>\n",
       "      <td>NaN</td>\n",
       "      <td>2655.173000</td>\n",
       "      <td>NaN</td>\n",
       "      <td>290.769200</td>\n",
       "      <td>NaN</td>\n",
       "      <td>1.000000</td>\n",
       "      <td>NaN</td>\n",
       "    </tr>\n",
       "  </tbody>\n",
       "</table>\n",
       "</div>"
      ],
      "text/plain": [
       "            ShortBuy  ShortBuy Label       ZhanDVAR  ZhanDVAR Label  \\\n",
       "count  716629.000000             0.0  680559.000000             0.0   \n",
       "mean        0.000460             NaN       1.088047             NaN   \n",
       "std         0.021454             NaN       0.103610             NaN   \n",
       "min         0.000000             NaN       0.911482             NaN   \n",
       "25%         0.000000             NaN       1.045695             NaN   \n",
       "50%         0.000000             NaN       1.062682             NaN   \n",
       "75%         0.000000             NaN       1.094858             NaN   \n",
       "max         1.000000             NaN       3.098039             NaN   \n",
       "\n",
       "         TwoDvar  TwoDvar Label       100RDVAR  100RDVAR Label    MA5Anewhigh  \\\n",
       "count  680073.00            0.0  677502.000000             0.0  716639.000000   \n",
       "mean         inf            NaN       3.528723             NaN       1.147524   \n",
       "std          NaN            NaN       3.565248             NaN       0.160618   \n",
       "min         0.00            NaN       0.000000             NaN       0.200000   \n",
       "25%         1.71            NaN       2.010000             NaN       1.090000   \n",
       "50%         2.04            NaN       2.640000             NaN       1.120000   \n",
       "75%         2.96            NaN       3.820000             NaN       1.180000   \n",
       "max          inf            NaN      79.080000             NaN      53.060000   \n",
       "\n",
       "       MA5Anewhigh Label      high/dvar  high/dvar Label    MACDVdh  \\\n",
       "count                0.0  674059.000000              0.0  575582.00   \n",
       "mean                 NaN       1.806758              NaN        NaN   \n",
       "std                  NaN      11.479511              NaN        NaN   \n",
       "min                  NaN       0.099808              NaN       -inf   \n",
       "25%                  NaN       1.000000              NaN      -1.43   \n",
       "50%                  NaN       1.131579              NaN       1.13   \n",
       "75%                  NaN       1.305466              NaN       2.63   \n",
       "max                  NaN     463.833300              NaN        inf   \n",
       "\n",
       "       MACDVdh Label      high/open  high/open Label         open/q  \\\n",
       "count            0.0  574390.000000              0.0  670809.000000   \n",
       "mean             NaN       2.615768              NaN       1.242789   \n",
       "std              NaN      28.243195              NaN       6.127405   \n",
       "min              NaN       0.032787              NaN       0.000000   \n",
       "25%              NaN       0.734591              NaN       0.777065   \n",
       "50%              NaN       1.046169              NaN       1.001502   \n",
       "75%              NaN       1.596696              NaN       1.209910   \n",
       "max              NaN    2655.173000              NaN     290.769200   \n",
       "\n",
       "       open/q Label     BuyWINLOSS  BuyWINLOSS Label  \n",
       "count           0.0  714280.000000               0.0  \n",
       "mean            NaN       0.000280               NaN  \n",
       "std             NaN       0.016731               NaN  \n",
       "min             NaN       0.000000               NaN  \n",
       "25%             NaN       0.000000               NaN  \n",
       "50%             NaN       0.000000               NaN  \n",
       "75%             NaN       0.000000               NaN  \n",
       "max             NaN       1.000000               NaN  "
      ]
     },
     "execution_count": 6,
     "metadata": {},
     "output_type": "execute_result"
    }
   ],
   "source": [
    "df.describe()"
   ]
  },
  {
   "cell_type": "markdown",
   "metadata": {},
   "source": [
    "## Wrangling Data"
   ]
  },
  {
   "cell_type": "code",
   "execution_count": 8,
   "metadata": {},
   "outputs": [
    {
     "name": "stdout",
     "output_type": "stream",
     "text": [
      "<class 'pandas.core.frame.DataFrame'>\n",
      "RangeIndex: 716701 entries, 0 to 716700\n",
      "Data columns (total 13 columns):\n",
      " #   Column       Non-Null Count   Dtype  \n",
      "---  ------       --------------   -----  \n",
      " 0   Symbol       716701 non-null  object \n",
      " 1   Date         716701 non-null  object \n",
      " 2   Time         716701 non-null  object \n",
      " 3   ShortBuy     716629 non-null  float64\n",
      " 4   ZhanDVAR     680559 non-null  float64\n",
      " 5   TwoDvar      680073 non-null  float64\n",
      " 6   100RDVAR     677502 non-null  float64\n",
      " 7   MA5Anewhigh  716639 non-null  float64\n",
      " 8   high/dvar    674059 non-null  float64\n",
      " 9   MACDVdh      575582 non-null  float64\n",
      " 10  high/open    574390 non-null  float64\n",
      " 11  open/q       670809 non-null  float64\n",
      " 12  BuyWINLOSS   714280 non-null  float64\n",
      "dtypes: float64(10), object(3)\n",
      "memory usage: 71.1+ MB\n"
     ]
    }
   ],
   "source": [
    "# Dropping all the 'Label' columns because they only contain nan values and isn't useful.\n",
    "df_copy = df[df.columns.drop(list(df.filter(regex='Label')))]\n",
    "df_copy.info()"
   ]
  },
  {
   "cell_type": "code",
   "execution_count": 9,
   "metadata": {},
   "outputs": [],
   "source": [
    "df_clean = df_copy.drop(columns = ['Time'])"
   ]
  },
  {
   "cell_type": "code",
   "execution_count": 10,
   "metadata": {},
   "outputs": [
    {
     "name": "stdout",
     "output_type": "stream",
     "text": [
      "<class 'pandas.core.frame.DataFrame'>\n",
      "Int64Index: 402 entries, 248 to 714837\n",
      "Data columns (total 12 columns):\n",
      " #   Column       Non-Null Count  Dtype  \n",
      "---  ------       --------------  -----  \n",
      " 0   Symbol       402 non-null    object \n",
      " 1   Date         402 non-null    object \n",
      " 2   ShortBuy     330 non-null    float64\n",
      " 3   ZhanDVAR     330 non-null    float64\n",
      " 4   TwoDvar      330 non-null    float64\n",
      " 5   100RDVAR     329 non-null    float64\n",
      " 6   MA5Anewhigh  340 non-null    float64\n",
      " 7   high/dvar    325 non-null    float64\n",
      " 8   MACDVdh      327 non-null    float64\n",
      " 9   high/open    328 non-null    float64\n",
      " 10  open/q       329 non-null    float64\n",
      " 11  BuyWINLOSS   396 non-null    float64\n",
      "dtypes: float64(10), object(2)\n",
      "memory usage: 40.8+ KB\n"
     ]
    }
   ],
   "source": [
    "# only interested in rows where Shortbuy happnened. Hence dropping all rows where shortbuy=0\n",
    "df_clean1 = df_clean[df_clean.ShortBuy != 0]\n",
    "df_clean1.info()"
   ]
  },
  {
   "cell_type": "code",
   "execution_count": 11,
   "metadata": {},
   "outputs": [
    {
     "name": "stdout",
     "output_type": "stream",
     "text": [
      "<class 'pandas.core.frame.DataFrame'>\n",
      "Int64Index: 402 entries, 248 to 714837\n",
      "Data columns (total 12 columns):\n",
      " #   Column       Non-Null Count  Dtype  \n",
      "---  ------       --------------  -----  \n",
      " 0   Symbol       402 non-null    object \n",
      " 1   Date         402 non-null    object \n",
      " 2   ShortBuy     330 non-null    float64\n",
      " 3   ZhanDVAR     330 non-null    float64\n",
      " 4   TwoDvar      330 non-null    float64\n",
      " 5   100RDVAR     329 non-null    float64\n",
      " 6   MA5Anewhigh  340 non-null    float64\n",
      " 7   high/dvar    325 non-null    float64\n",
      " 8   MACDVdh      321 non-null    float64\n",
      " 9   high/open    328 non-null    float64\n",
      " 10  open/q       329 non-null    float64\n",
      " 11  BuyWINLOSS   396 non-null    float64\n",
      "dtypes: float64(10), object(2)\n",
      "memory usage: 40.8+ KB\n"
     ]
    }
   ],
   "source": [
    "df_clean2 = df_clean1.replace([np.inf, -np.inf], np.nan)\n",
    "df_clean2.info()"
   ]
  },
  {
   "cell_type": "code",
   "execution_count": 12,
   "metadata": {},
   "outputs": [
    {
     "data": {
      "text/plain": [
       "72"
      ]
     },
     "execution_count": 12,
     "metadata": {},
     "output_type": "execute_result"
    }
   ],
   "source": [
    "df_clean2.ShortBuy.isnull().sum()"
   ]
  },
  {
   "cell_type": "code",
   "execution_count": 13,
   "metadata": {},
   "outputs": [
    {
     "name": "stdout",
     "output_type": "stream",
     "text": [
      "<class 'pandas.core.frame.DataFrame'>\n",
      "Int64Index: 324 entries, 248 to 714837\n",
      "Data columns (total 12 columns):\n",
      " #   Column       Non-Null Count  Dtype  \n",
      "---  ------       --------------  -----  \n",
      " 0   Symbol       324 non-null    object \n",
      " 1   Date         324 non-null    object \n",
      " 2   ShortBuy     324 non-null    float64\n",
      " 3   ZhanDVAR     324 non-null    float64\n",
      " 4   TwoDvar      324 non-null    float64\n",
      " 5   100RDVAR     323 non-null    float64\n",
      " 6   MA5Anewhigh  324 non-null    float64\n",
      " 7   high/dvar    322 non-null    float64\n",
      " 8   MACDVdh      315 non-null    float64\n",
      " 9   high/open    322 non-null    float64\n",
      " 10  open/q       323 non-null    float64\n",
      " 11  BuyWINLOSS   324 non-null    float64\n",
      "dtypes: float64(10), object(2)\n",
      "memory usage: 32.9+ KB\n"
     ]
    }
   ],
   "source": [
    "# Dropping rows where ShortBuy and BuyWINLOSS are nans, ShortBuy is the data interested in, BuyWINLOSS is the y dependent variable.\n",
    "df_clean3 = df_clean2.dropna(how = 'any', subset = ['ShortBuy'])\n",
    "df_clean4 = df_clean3.dropna(how = 'any', subset = ['BuyWINLOSS'])\n",
    "df_clean4.info()"
   ]
  },
  {
   "cell_type": "code",
   "execution_count": 14,
   "metadata": {},
   "outputs": [],
   "source": [
    "#Shorbuy not needed for model training and calculations\n",
    "df_clean5 = df_clean4.drop(columns = ['ShortBuy'])\n"
   ]
  },
  {
   "cell_type": "code",
   "execution_count": 15,
   "metadata": {},
   "outputs": [
    {
     "name": "stdout",
     "output_type": "stream",
     "text": [
      "<class 'pandas.core.frame.DataFrame'>\n",
      "Int64Index: 324 entries, 248 to 714837\n",
      "Data columns (total 11 columns):\n",
      " #   Column       Non-Null Count  Dtype  \n",
      "---  ------       --------------  -----  \n",
      " 0   Symbol       324 non-null    object \n",
      " 1   Date         324 non-null    object \n",
      " 2   ZhanDVAR     324 non-null    float64\n",
      " 3   TwoDvar      324 non-null    float64\n",
      " 4   100RDVAR     324 non-null    float64\n",
      " 5   MA5Anewhigh  324 non-null    float64\n",
      " 6   high/dvar    324 non-null    float64\n",
      " 7   MACDVdh      324 non-null    float64\n",
      " 8   high/open    324 non-null    float64\n",
      " 9   open/q       324 non-null    float64\n",
      " 10  BuyWINLOSS   324 non-null    float64\n",
      "dtypes: float64(9), object(2)\n",
      "memory usage: 30.4+ KB\n"
     ]
    }
   ],
   "source": [
    "# filling the rest of the missing values with mean\n",
    "floatcol = list(df_clean5)\n",
    "floatcol = floatcol[2:]\n",
    "fill_mean = lambda col: col.fillna(col.mean()) if col.name in floatcol else col\n",
    "df_final = df_clean5.apply(fill_mean , axis=0)\n",
    "\n",
    "df_final.info()"
   ]
  },
  {
   "cell_type": "code",
   "execution_count": 16,
   "metadata": {},
   "outputs": [],
   "source": [
    "#prepping data for modelling\n",
    "X = df_final.iloc[:, 2:-1].values\n",
    "y = df_final.iloc[:, -1].values"
   ]
  },
  {
   "cell_type": "markdown",
   "metadata": {},
   "source": [
    "## Feature Scaling"
   ]
  },
  {
   "cell_type": "code",
   "execution_count": 17,
   "metadata": {},
   "outputs": [],
   "source": [
    "sc = StandardScaler()\n",
    "X = sc.fit_transform(X)"
   ]
  },
  {
   "cell_type": "markdown",
   "metadata": {},
   "source": [
    "## Splitting the dataset into the Training set and Test set"
   ]
  },
  {
   "cell_type": "code",
   "execution_count": 18,
   "metadata": {},
   "outputs": [],
   "source": [
    "X_train, X_test, y_train, y_test = train_test_split(X, y, test_size = 0.2, random_state = 0)"
   ]
  },
  {
   "cell_type": "markdown",
   "metadata": {},
   "source": [
    "##  Building and Training Artificial Neural Network"
   ]
  },
  {
   "cell_type": "code",
   "execution_count": 19,
   "metadata": {},
   "outputs": [],
   "source": [
    "ann = tf.keras.models.Sequential()"
   ]
  },
  {
   "cell_type": "code",
   "execution_count": 20,
   "metadata": {},
   "outputs": [
    {
     "name": "stdout",
     "output_type": "stream",
     "text": [
      "WARNING:tensorflow:From C:\\Users\\User\\Anaconda3\\lib\\site-packages\\tensorflow\\python\\ops\\init_ops.py:1251: calling VarianceScaling.__init__ (from tensorflow.python.ops.init_ops) with dtype is deprecated and will be removed in a future version.\n",
      "Instructions for updating:\n",
      "Call initializer instance with the dtype argument instead of passing it to the constructor\n"
     ]
    }
   ],
   "source": [
    "ann.add(tf.keras.layers.Dense(units=8, activation='relu'))"
   ]
  },
  {
   "cell_type": "code",
   "execution_count": 21,
   "metadata": {},
   "outputs": [],
   "source": [
    "ann.add(tf.keras.layers.Dense(units=8, activation='relu'))"
   ]
  },
  {
   "cell_type": "code",
   "execution_count": 22,
   "metadata": {},
   "outputs": [],
   "source": [
    "ann.add(tf.keras.layers.Dense(units=1, activation='sigmoid'))"
   ]
  },
  {
   "cell_type": "code",
   "execution_count": 23,
   "metadata": {},
   "outputs": [],
   "source": [
    "ann.compile(optimizer = 'adam', loss = 'binary_crossentropy', metrics = ['accuracy'])"
   ]
  },
  {
   "cell_type": "code",
   "execution_count": 24,
   "metadata": {},
   "outputs": [
    {
     "name": "stdout",
     "output_type": "stream",
     "text": [
      "WARNING:tensorflow:From C:\\Users\\User\\Anaconda3\\lib\\site-packages\\tensorflow\\python\\ops\\nn_impl.py:180: add_dispatch_support.<locals>.wrapper (from tensorflow.python.ops.array_ops) is deprecated and will be removed in a future version.\n",
      "Instructions for updating:\n",
      "Use tf.where in 2.0, which has the same broadcast rule as np.where\n",
      "Epoch 1/100\n",
      "259/259 [==============================] - 0s 524us/sample - loss: 0.6833 - acc: 0.5830\n",
      "Epoch 2/100\n",
      "259/259 [==============================] - 0s 148us/sample - loss: 0.6741 - acc: 0.6139\n",
      "Epoch 3/100\n",
      "259/259 [==============================] - 0s 144us/sample - loss: 0.6695 - acc: 0.6293\n",
      "Epoch 4/100\n",
      "259/259 [==============================] - 0s 156us/sample - loss: 0.6648 - acc: 0.6255\n",
      "Epoch 5/100\n",
      "259/259 [==============================] - 0s 143us/sample - loss: 0.6619 - acc: 0.6371\n",
      "Epoch 6/100\n",
      "259/259 [==============================] - 0s 146us/sample - loss: 0.6595 - acc: 0.6332\n",
      "Epoch 7/100\n",
      "259/259 [==============================] - 0s 152us/sample - loss: 0.6573 - acc: 0.6371\n",
      "Epoch 8/100\n",
      "259/259 [==============================] - 0s 145us/sample - loss: 0.6559 - acc: 0.6409\n",
      "Epoch 9/100\n",
      "259/259 [==============================] - 0s 150us/sample - loss: 0.6543 - acc: 0.6409\n",
      "Epoch 10/100\n",
      "259/259 [==============================] - 0s 158us/sample - loss: 0.6535 - acc: 0.6293\n",
      "Epoch 11/100\n",
      "259/259 [==============================] - 0s 141us/sample - loss: 0.6520 - acc: 0.6216\n",
      "Epoch 12/100\n",
      "259/259 [==============================] - 0s 145us/sample - loss: 0.6516 - acc: 0.6293\n",
      "Epoch 13/100\n",
      "259/259 [==============================] - 0s 141us/sample - loss: 0.6499 - acc: 0.6293\n",
      "Epoch 14/100\n",
      "259/259 [==============================] - 0s 166us/sample - loss: 0.6487 - acc: 0.6216\n",
      "Epoch 15/100\n",
      "259/259 [==============================] - 0s 175us/sample - loss: 0.6483 - acc: 0.6332\n",
      "Epoch 16/100\n",
      "259/259 [==============================] - 0s 235us/sample - loss: 0.6478 - acc: 0.6216\n",
      "Epoch 17/100\n",
      "259/259 [==============================] - 0s 175us/sample - loss: 0.6459 - acc: 0.6332\n",
      "Epoch 18/100\n",
      "259/259 [==============================] - 0s 183us/sample - loss: 0.6447 - acc: 0.6255\n",
      "Epoch 19/100\n",
      "259/259 [==============================] - 0s 175us/sample - loss: 0.6446 - acc: 0.6293\n",
      "Epoch 20/100\n",
      "259/259 [==============================] - 0s 179us/sample - loss: 0.6432 - acc: 0.6332\n",
      "Epoch 21/100\n",
      "259/259 [==============================] - 0s 173us/sample - loss: 0.6434 - acc: 0.6293\n",
      "Epoch 22/100\n",
      "259/259 [==============================] - 0s 179us/sample - loss: 0.6419 - acc: 0.6293\n",
      "Epoch 23/100\n",
      "259/259 [==============================] - 0s 166us/sample - loss: 0.6411 - acc: 0.6293\n",
      "Epoch 24/100\n",
      "259/259 [==============================] - 0s 172us/sample - loss: 0.6400 - acc: 0.6332\n",
      "Epoch 25/100\n",
      "259/259 [==============================] - 0s 164us/sample - loss: 0.6390 - acc: 0.6293\n",
      "Epoch 26/100\n",
      "259/259 [==============================] - 0s 189us/sample - loss: 0.6385 - acc: 0.6216\n",
      "Epoch 27/100\n",
      "259/259 [==============================] - 0s 172us/sample - loss: 0.6372 - acc: 0.6293\n",
      "Epoch 28/100\n",
      "259/259 [==============================] - 0s 183us/sample - loss: 0.6364 - acc: 0.6409\n",
      "Epoch 29/100\n",
      "259/259 [==============================] - 0s 154us/sample - loss: 0.6368 - acc: 0.6409\n",
      "Epoch 30/100\n",
      "259/259 [==============================] - 0s 181us/sample - loss: 0.6351 - acc: 0.6332\n",
      "Epoch 31/100\n",
      "259/259 [==============================] - 0s 185us/sample - loss: 0.6334 - acc: 0.6332\n",
      "Epoch 32/100\n",
      "259/259 [==============================] - 0s 177us/sample - loss: 0.6323 - acc: 0.6293\n",
      "Epoch 33/100\n",
      "259/259 [==============================] - 0s 170us/sample - loss: 0.6314 - acc: 0.6371\n",
      "Epoch 34/100\n",
      "259/259 [==============================] - 0s 187us/sample - loss: 0.6311 - acc: 0.6409\n",
      "Epoch 35/100\n",
      "259/259 [==============================] - 0s 162us/sample - loss: 0.6298 - acc: 0.6371\n",
      "Epoch 36/100\n",
      "259/259 [==============================] - 0s 154us/sample - loss: 0.6290 - acc: 0.6525\n",
      "Epoch 37/100\n",
      "259/259 [==============================] - 0s 143us/sample - loss: 0.6289 - acc: 0.6486\n",
      "Epoch 38/100\n",
      "259/259 [==============================] - 0s 156us/sample - loss: 0.6271 - acc: 0.6409\n",
      "Epoch 39/100\n",
      "259/259 [==============================] - 0s 143us/sample - loss: 0.6257 - acc: 0.6486\n",
      "Epoch 40/100\n",
      "259/259 [==============================] - 0s 137us/sample - loss: 0.6254 - acc: 0.6486\n",
      "Epoch 41/100\n",
      "259/259 [==============================] - 0s 139us/sample - loss: 0.6245 - acc: 0.6448\n",
      "Epoch 42/100\n",
      "259/259 [==============================] - 0s 135us/sample - loss: 0.6237 - acc: 0.6486\n",
      "Epoch 43/100\n",
      "259/259 [==============================] - 0s 145us/sample - loss: 0.6227 - acc: 0.6486\n",
      "Epoch 44/100\n",
      "259/259 [==============================] - 0s 137us/sample - loss: 0.6209 - acc: 0.6525\n",
      "Epoch 45/100\n",
      "259/259 [==============================] - 0s 139us/sample - loss: 0.6204 - acc: 0.6525\n",
      "Epoch 46/100\n",
      "259/259 [==============================] - 0s 143us/sample - loss: 0.6199 - acc: 0.6486\n",
      "Epoch 47/100\n",
      "259/259 [==============================] - 0s 137us/sample - loss: 0.6196 - acc: 0.6486\n",
      "Epoch 48/100\n",
      "259/259 [==============================] - 0s 139us/sample - loss: 0.6182 - acc: 0.6564\n",
      "Epoch 49/100\n",
      "259/259 [==============================] - 0s 137us/sample - loss: 0.6172 - acc: 0.6525\n",
      "Epoch 50/100\n",
      "259/259 [==============================] - 0s 145us/sample - loss: 0.6153 - acc: 0.6564\n",
      "Epoch 51/100\n",
      "259/259 [==============================] - 0s 146us/sample - loss: 0.6148 - acc: 0.6602\n",
      "Epoch 52/100\n",
      "259/259 [==============================] - 0s 143us/sample - loss: 0.6135 - acc: 0.6564\n",
      "Epoch 53/100\n",
      "259/259 [==============================] - 0s 145us/sample - loss: 0.6124 - acc: 0.6564\n",
      "Epoch 54/100\n",
      "259/259 [==============================] - 0s 135us/sample - loss: 0.6122 - acc: 0.6641\n",
      "Epoch 55/100\n",
      "259/259 [==============================] - 0s 141us/sample - loss: 0.6124 - acc: 0.6641\n",
      "Epoch 56/100\n",
      "259/259 [==============================] - 0s 141us/sample - loss: 0.6107 - acc: 0.6602\n",
      "Epoch 57/100\n",
      "259/259 [==============================] - 0s 145us/sample - loss: 0.6093 - acc: 0.6680\n",
      "Epoch 58/100\n",
      "259/259 [==============================] - 0s 143us/sample - loss: 0.6084 - acc: 0.6564\n",
      "Epoch 59/100\n",
      "259/259 [==============================] - 0s 148us/sample - loss: 0.6075 - acc: 0.6680\n",
      "Epoch 60/100\n",
      "259/259 [==============================] - 0s 141us/sample - loss: 0.6070 - acc: 0.6680\n",
      "Epoch 61/100\n",
      "259/259 [==============================] - 0s 137us/sample - loss: 0.6059 - acc: 0.6680\n",
      "Epoch 62/100\n",
      "259/259 [==============================] - 0s 168us/sample - loss: 0.6042 - acc: 0.6680\n",
      "Epoch 63/100\n",
      "259/259 [==============================] - 0s 145us/sample - loss: 0.6044 - acc: 0.6718\n",
      "Epoch 64/100\n",
      "259/259 [==============================] - 0s 154us/sample - loss: 0.6037 - acc: 0.6834\n",
      "Epoch 65/100\n",
      "259/259 [==============================] - 0s 145us/sample - loss: 0.6018 - acc: 0.6873\n",
      "Epoch 66/100\n",
      "259/259 [==============================] - 0s 141us/sample - loss: 0.6006 - acc: 0.6834\n",
      "Epoch 67/100\n",
      "259/259 [==============================] - 0s 143us/sample - loss: 0.6005 - acc: 0.6911\n",
      "Epoch 68/100\n",
      "259/259 [==============================] - 0s 141us/sample - loss: 0.5997 - acc: 0.6950\n",
      "Epoch 69/100\n",
      "259/259 [==============================] - 0s 139us/sample - loss: 0.5985 - acc: 0.6950\n",
      "Epoch 70/100\n",
      "259/259 [==============================] - 0s 135us/sample - loss: 0.5975 - acc: 0.6950\n",
      "Epoch 71/100\n",
      "259/259 [==============================] - 0s 139us/sample - loss: 0.5971 - acc: 0.6911\n",
      "Epoch 72/100\n",
      "259/259 [==============================] - 0s 143us/sample - loss: 0.5970 - acc: 0.6988\n",
      "Epoch 73/100\n",
      "259/259 [==============================] - 0s 139us/sample - loss: 0.5952 - acc: 0.7027\n",
      "Epoch 74/100\n",
      "259/259 [==============================] - 0s 148us/sample - loss: 0.5949 - acc: 0.6950\n",
      "Epoch 75/100\n",
      "259/259 [==============================] - 0s 135us/sample - loss: 0.5946 - acc: 0.6988\n",
      "Epoch 76/100\n",
      "259/259 [==============================] - 0s 141us/sample - loss: 0.5924 - acc: 0.6950\n",
      "Epoch 77/100\n",
      "259/259 [==============================] - 0s 141us/sample - loss: 0.5918 - acc: 0.6988\n",
      "Epoch 78/100\n",
      "259/259 [==============================] - 0s 189us/sample - loss: 0.5921 - acc: 0.6988\n"
     ]
    },
    {
     "name": "stdout",
     "output_type": "stream",
     "text": [
      "Epoch 79/100\n",
      "259/259 [==============================] - 0s 187us/sample - loss: 0.5903 - acc: 0.7027\n",
      "Epoch 80/100\n",
      "259/259 [==============================] - 0s 148us/sample - loss: 0.5889 - acc: 0.7104\n",
      "Epoch 81/100\n",
      "259/259 [==============================] - 0s 139us/sample - loss: 0.5886 - acc: 0.7027\n",
      "Epoch 82/100\n",
      "259/259 [==============================] - 0s 141us/sample - loss: 0.5874 - acc: 0.7027\n",
      "Epoch 83/100\n",
      "259/259 [==============================] - 0s 135us/sample - loss: 0.5868 - acc: 0.7066\n",
      "Epoch 84/100\n",
      "259/259 [==============================] - 0s 146us/sample - loss: 0.5856 - acc: 0.7027\n",
      "Epoch 85/100\n",
      "259/259 [==============================] - 0s 166us/sample - loss: 0.5843 - acc: 0.7066\n",
      "Epoch 86/100\n",
      "259/259 [==============================] - 0s 156us/sample - loss: 0.5859 - acc: 0.7027\n",
      "Epoch 87/100\n",
      "259/259 [==============================] - 0s 162us/sample - loss: 0.5823 - acc: 0.7066\n",
      "Epoch 88/100\n",
      "259/259 [==============================] - 0s 139us/sample - loss: 0.5823 - acc: 0.7066\n",
      "Epoch 89/100\n",
      "259/259 [==============================] - 0s 168us/sample - loss: 0.5811 - acc: 0.7027\n",
      "Epoch 90/100\n",
      "259/259 [==============================] - 0s 150us/sample - loss: 0.5806 - acc: 0.7066\n",
      "Epoch 91/100\n",
      "259/259 [==============================] - 0s 156us/sample - loss: 0.5787 - acc: 0.7066\n",
      "Epoch 92/100\n",
      "259/259 [==============================] - 0s 158us/sample - loss: 0.5789 - acc: 0.7143\n",
      "Epoch 93/100\n",
      "259/259 [==============================] - 0s 146us/sample - loss: 0.5769 - acc: 0.7104\n",
      "Epoch 94/100\n",
      "259/259 [==============================] - 0s 146us/sample - loss: 0.5768 - acc: 0.7066\n",
      "Epoch 95/100\n",
      "259/259 [==============================] - 0s 141us/sample - loss: 0.5752 - acc: 0.7104\n",
      "Epoch 96/100\n",
      "259/259 [==============================] - 0s 141us/sample - loss: 0.5750 - acc: 0.7143\n",
      "Epoch 97/100\n",
      "259/259 [==============================] - 0s 141us/sample - loss: 0.5761 - acc: 0.7143\n",
      "Epoch 98/100\n",
      "259/259 [==============================] - 0s 139us/sample - loss: 0.5729 - acc: 0.7104\n",
      "Epoch 99/100\n",
      "259/259 [==============================] - 0s 145us/sample - loss: 0.5724 - acc: 0.7066\n",
      "Epoch 100/100\n",
      "259/259 [==============================] - 0s 160us/sample - loss: 0.5704 - acc: 0.7143\n"
     ]
    },
    {
     "data": {
      "text/plain": [
       "<tensorflow.python.keras.callbacks.History at 0x2d65c62e5f8>"
      ]
     },
     "execution_count": 24,
     "metadata": {},
     "output_type": "execute_result"
    }
   ],
   "source": [
    "ann.fit(X_train, y_train, batch_size = 5, epochs = 100)"
   ]
  },
  {
   "cell_type": "markdown",
   "metadata": {},
   "source": [
    "## Evaluating ANN Model"
   ]
  },
  {
   "cell_type": "code",
   "execution_count": 27,
   "metadata": {},
   "outputs": [],
   "source": [
    "y_pred = ann.predict(X_test)\n",
    "y_pred = (y_pred > 0.5)"
   ]
  },
  {
   "cell_type": "code",
   "execution_count": 28,
   "metadata": {},
   "outputs": [
    {
     "name": "stdout",
     "output_type": "stream",
     "text": [
      "[[ 8 21]\n",
      " [ 8 28]]\n"
     ]
    }
   ],
   "source": [
    "from sklearn.metrics import confusion_matrix\n",
    "cm = confusion_matrix(y_test, y_pred)\n",
    "print(cm)"
   ]
  },
  {
   "cell_type": "markdown",
   "metadata": {},
   "source": [
    "## Training the Random Forest Classification model on the Training set"
   ]
  },
  {
   "cell_type": "code",
   "execution_count": 29,
   "metadata": {},
   "outputs": [
    {
     "data": {
      "text/plain": [
       "RandomForestClassifier(bootstrap=True, ccp_alpha=0.0, class_weight=None,\n",
       "                       criterion='entropy', max_depth=None, max_features='auto',\n",
       "                       max_leaf_nodes=None, max_samples=None,\n",
       "                       min_impurity_decrease=0.0, min_impurity_split=None,\n",
       "                       min_samples_leaf=1, min_samples_split=2,\n",
       "                       min_weight_fraction_leaf=0.0, n_estimators=200,\n",
       "                       n_jobs=None, oob_score=False, random_state=0, verbose=0,\n",
       "                       warm_start=False)"
      ]
     },
     "execution_count": 29,
     "metadata": {},
     "output_type": "execute_result"
    }
   ],
   "source": [
    "classifier = RandomForestClassifier(n_estimators = 200, criterion = 'entropy', random_state = 0)\n",
    "classifier.fit(X_train, y_train)"
   ]
  },
  {
   "cell_type": "markdown",
   "metadata": {},
   "source": [
    "## Evaluating Random Forest Classifier"
   ]
  },
  {
   "cell_type": "code",
   "execution_count": 30,
   "metadata": {},
   "outputs": [
    {
     "name": "stdout",
     "output_type": "stream",
     "text": [
      "[[ 9 20]\n",
      " [ 5 31]]\n"
     ]
    }
   ],
   "source": [
    "y_pred1 = classifier.predict(X_test)\n",
    "from sklearn.metrics import confusion_matrix\n",
    "cm = confusion_matrix(y_test, y_pred1)\n",
    "print(cm)"
   ]
  },
  {
   "cell_type": "code",
   "execution_count": 32,
   "metadata": {},
   "outputs": [
    {
     "name": "stdout",
     "output_type": "stream",
     "text": [
      "Accuracy: 59.11 %\n",
      "Standard Deviation: 6.75 %\n"
     ]
    }
   ],
   "source": [
    "accuracy = cross_val_score(estimator = classifier, X= X_train, y = y_train, cv = 10)\n",
    "print(\"Accuracy: {:.2f} %\".format(accuracy.mean()*100))\n",
    "print(\"Standard Deviation: {:.2f} %\".format(accuracy.std()*100))"
   ]
  },
  {
   "cell_type": "code",
   "execution_count": 34,
   "metadata": {},
   "outputs": [
    {
     "data": {
      "image/png": "[encoded data removed]",
      "text/plain": [
       "<Figure size 468x324 with 1 Axes>"
      ]
     },
     "metadata": {
      "needs_background": "light"
     },
     "output_type": "display_data"
    },
    {
     "data": {
      "text/plain": [
       "<Figure size 360x360 with 0 Axes>"
      ]
     },
     "metadata": {},
     "output_type": "display_data"
    }
   ],
   "source": [
    "# Feature importance in RandomForest Classifier\n",
    "col = ['ZhanDVAR', 'TwoDvar', '100RDVAR', 'MA5Anewhigh', 'high/dvar', \n",
    "       'MACDVdh', 'high/open', 'open/q']\n",
    "#modelname.feature_importance_\n",
    "imp = classifier.feature_importances_\n",
    "#plot\n",
    "fig, ax = plt.subplots() \n",
    "width = 0.4 # the width of the bars \n",
    "ind = np.arange(len(imp)) # the x locations for the groups\n",
    "ax.barh(ind, imp, width, color='green')\n",
    "ax.set_yticks(ind+width/10)\n",
    "ax.set_yticklabels(col, minor=False)\n",
    "plt.title('Feature importance in RandomForest Classifier')\n",
    "plt.xlabel('Relative importance')\n",
    "plt.ylabel('feature') \n",
    "plt.figure(figsize=(5,5))\n",
    "fig.set_size_inches(6.5, 4.5, forward=True)"
   ]
  },
  {
   "cell_type": "code",
   "execution_count": null,
   "metadata": {},
   "outputs": [],
   "source": []
  }
 ],
 "metadata": {
  "kernelspec": {
   "display_name": "Python 3",
   "language": "python",
   "name": "python3"
  },
  "language_info": {
   "codemirror_mode": {
    "name": "ipython",
    "version": 3
   },
   "file_extension": ".py",
   "mimetype": "text/x-python",
   "name": "python",
   "nbconvert_exporter": "python",
   "pygments_lexer": "ipython3",
   "version": "3.6.10"
  }
 },
 "nbformat": 4,
 "nbformat_minor": 4
}
